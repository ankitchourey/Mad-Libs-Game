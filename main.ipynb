{
 "cells": [
  {
   "cell_type": "code",
   "execution_count": 3,
   "metadata": {},
   "outputs": [
    {
     "name": "stdout",
     "output_type": "stream",
     "text": [
      "Enter a noun help\n",
      "It don't mean a thing if it ain't got that help\n",
      "\n"
     ]
    }
   ],
   "source": [
    "import random\n",
    "\n",
    "#open Mad Libs text file\n",
    "f = open('madlibs.txt','r')\n",
    "\n",
    "## Read the whole file and store each line in a list\n",
    "madlibText = f.readlines()\n",
    "\n",
    "# Choose a random line from the list\n",
    "madlib = random.choice(madlibText)\n",
    "\n",
    "# Ask the user to input\n",
    "noun = input(\"Enter a noun \")\n",
    "\n",
    "#Replace blank with noun\n",
    "madlib = madlib.replace(\"blank!\",noun)\n",
    "\n",
    "print(madlib)"
   ]
  },
  {
   "cell_type": "code",
   "execution_count": null,
   "metadata": {},
   "outputs": [],
   "source": []
  }
 ],
 "metadata": {
  "kernelspec": {
   "display_name": "Python 3",
   "language": "python",
   "name": "python3"
  },
  "language_info": {
   "codemirror_mode": {
    "name": "ipython",
    "version": 3
   },
   "file_extension": ".py",
   "mimetype": "text/x-python",
   "name": "python",
   "nbconvert_exporter": "python",
   "pygments_lexer": "ipython3",
   "version": "3.7.3"
  }
 },
 "nbformat": 4,
 "nbformat_minor": 2
}
